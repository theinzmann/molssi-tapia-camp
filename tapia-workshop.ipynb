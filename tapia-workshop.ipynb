{
 "cells": [
  {
   "cell_type": "markdown",
   "metadata": {},
   "source": [
    "## MolSSI 2019"
   ]
  },
  {
   "cell_type": "code",
   "execution_count": 3,
   "metadata": {},
   "outputs": [
    {
     "data": {
      "text/plain": [
       "10"
      ]
     },
     "execution_count": 3,
     "metadata": {},
     "output_type": "execute_result"
    }
   ],
   "source": [
    "3+7"
   ]
  },
  {
   "cell_type": "code",
   "execution_count": 4,
   "metadata": {},
   "outputs": [
    {
     "data": {
      "text/plain": [
       "10"
      ]
     },
     "execution_count": 4,
     "metadata": {},
     "output_type": "execute_result"
    }
   ],
   "source": [
    "3+7"
   ]
  },
  {
   "cell_type": "code",
   "execution_count": 14,
   "metadata": {},
   "outputs": [],
   "source": [
    "x=25"
   ]
  },
  {
   "cell_type": "code",
   "execution_count": 15,
   "metadata": {},
   "outputs": [
    {
     "data": {
      "text/plain": [
       "625"
      ]
     },
     "execution_count": 15,
     "metadata": {},
     "output_type": "execute_result"
    }
   ],
   "source": [
    "x**2"
   ]
  },
  {
   "cell_type": "code",
   "execution_count": 11,
   "metadata": {},
   "outputs": [],
   "source": [
    "deltaH = -541.5 #kJ/mol\n",
    "deltaS = 10.4 #J/molK\n",
    "temp = 298 #K\n",
    "deltaG = deltaH - temp*deltaS"
   ]
  },
  {
   "cell_type": "code",
   "execution_count": 12,
   "metadata": {},
   "outputs": [
    {
     "name": "stdout",
     "output_type": "stream",
     "text": [
      "-3640.7000000000003\n"
     ]
    }
   ],
   "source": [
    "print(deltaG)"
   ]
  },
  {
   "cell_type": "code",
   "execution_count": 13,
   "metadata": {},
   "outputs": [
    {
     "name": "stdout",
     "output_type": "stream",
     "text": [
      "-3640.7000000000003\n",
      "-3640700.0000000005\n"
     ]
    }
   ],
   "source": [
    "deltaG_J = deltaG*1000\n",
    "print(deltaG)\n",
    "print(deltaG_J)"
   ]
  },
  {
   "cell_type": "code",
   "execution_count": 20,
   "metadata": {},
   "outputs": [
    {
     "name": "stdout",
     "output_type": "stream",
     "text": [
      "-3640.7000\n"
     ]
    }
   ],
   "source": [
    "deltaH, deltaS, temp = -541.5, 10.4, 298\n",
    "deltaG = deltaH - temp*deltaS\n",
    "print('{:.4f}'.format(deltaG))"
   ]
  },
  {
   "cell_type": "code",
   "execution_count": 43,
   "metadata": {},
   "outputs": [
    {
     "name": "stdout",
     "output_type": "stream",
     "text": [
      "4\n"
     ]
    }
   ],
   "source": [
    "energy_kcal = [-13.4,-2.7,5.4,42.1]\n",
    "print(len(energy_kcal))"
   ]
  },
  {
   "cell_type": "code",
   "execution_count": 31,
   "metadata": {},
   "outputs": [
    {
     "name": "stdout",
     "output_type": "stream",
     "text": [
      "-13.4\n"
     ]
    }
   ],
   "source": [
    "print(energy_kcal[0])"
   ]
  },
  {
   "cell_type": "code",
   "execution_count": 33,
   "metadata": {},
   "outputs": [
    {
     "name": "stdout",
     "output_type": "stream",
     "text": [
      "[-13.4, -2.7]\n"
     ]
    }
   ],
   "source": [
    "new_list = energy_kcal[0:2]\n",
    "print(new_list)"
   ]
  },
  {
   "cell_type": "code",
   "execution_count": 37,
   "metadata": {},
   "outputs": [
    {
     "name": "stdout",
     "output_type": "stream",
     "text": [
      "[-13.4, -2.7, 5.4]   [5.4, 42.1]\n"
     ]
    }
   ],
   "source": [
    "slice1= energy_kcal[:3]\n",
    "kimboslice2 = energy_kcal[2:]\n",
    "print(slice1, ' ', kimboslice2)"
   ]
  },
  {
   "cell_type": "code",
   "execution_count": 42,
   "metadata": {},
   "outputs": [
    {
     "name": "stdout",
     "output_type": "stream",
     "text": [
      "[-56.0656, -11.296800000000001, 22.593600000000002, 176.1464]\n"
     ]
    }
   ],
   "source": [
    "for i,val in enumerate(energy_kcal):\n",
    "    energy_kcal[i] = val*4.184\n",
    "    \n",
    "print(energy_kcal)"
   ]
  },
  {
   "cell_type": "code",
   "execution_count": 44,
   "metadata": {},
   "outputs": [
    {
     "name": "stdout",
     "output_type": "stream",
     "text": [
      "[-56.0656, -11.296800000000001, 22.593600000000002, 176.1464]\n"
     ]
    }
   ],
   "source": [
    "energy_kJ = []\n",
    "for val in energy_kcal:\n",
    "    energy_kJ.append(val*4.184)\n",
    "    \n",
    "print(energy_kJ)"
   ]
  },
  {
   "cell_type": "code",
   "execution_count": 50,
   "metadata": {},
   "outputs": [
    {
     "name": "stdout",
     "output_type": "stream",
     "text": [
      "(-)  [-13.4, -2.7]\n",
      "(+)  [5.4, 42.1]\n"
     ]
    }
   ],
   "source": [
    "negatives = []; positives = []\n",
    "for number in energy_kcal:\n",
    "    if number < 0:\n",
    "        negatives.append(number)\n",
    "    else:\n",
    "        positives.append(number)\n",
    "        \n",
    "        \n",
    "print('(-) ', negatives); print('(+) ', positives)"
   ]
  },
  {
   "cell_type": "code",
   "execution_count": 51,
   "metadata": {},
   "outputs": [
    {
     "data": {
      "text/plain": [
       "'/Users/theinzmann/Desktop/cms-workshop/data'"
      ]
     },
     "execution_count": 51,
     "metadata": {},
     "output_type": "execute_result"
    }
   ],
   "source": [
    "pwd"
   ]
  },
  {
   "cell_type": "code",
   "execution_count": 52,
   "metadata": {},
   "outputs": [],
   "source": [
    "import subprocess as subp"
   ]
  },
  {
   "cell_type": "code",
   "execution_count": null,
   "metadata": {},
   "outputs": [],
   "source": []
  },
  {
   "cell_type": "code",
   "execution_count": null,
   "metadata": {},
   "outputs": [],
   "source": []
  },
  {
   "cell_type": "code",
   "execution_count": null,
   "metadata": {},
   "outputs": [],
   "source": []
  }
 ],
 "metadata": {
  "kernelspec": {
   "display_name": "Python 3",
   "language": "python",
   "name": "python3"
  },
  "language_info": {
   "codemirror_mode": {
    "name": "ipython",
    "version": 3
   },
   "file_extension": ".py",
   "mimetype": "text/x-python",
   "name": "python",
   "nbconvert_exporter": "python",
   "pygments_lexer": "ipython3",
   "version": "3.7.1"
  }
 },
 "nbformat": 4,
 "nbformat_minor": 2
}
