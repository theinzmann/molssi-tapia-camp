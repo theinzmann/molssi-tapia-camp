{
 "cells": [
  {
   "cell_type": "markdown",
   "metadata": {},
   "source": [
    "## Water Assignment"
   ]
  },
  {
   "cell_type": "code",
   "execution_count": 7,
   "metadata": {},
   "outputs": [
    {
     "name": "stdout",
     "output_type": "stream",
     "text": [
      "[['O' '0.000000' '-0.007156' '0.965491']\n",
      " ['H1' '-0.000000' '0.001486' '-0.003471']\n",
      " ['H2' '0.000000' '0.931026' '1.207929']]\n"
     ]
    }
   ],
   "source": [
    "import numpy as np\n",
    "total_data = np.genfromtxt('water.xyz', dtype='unicode', skip_header=2) ### very usefull to use this to extract data\n",
    "print(total_data)"
   ]
  },
  {
   "cell_type": "code",
   "execution_count": 8,
   "metadata": {},
   "outputs": [
    {
     "name": "stdout",
     "output_type": "stream",
     "text": [
      "[[ 0.       -0.007156  0.965491]\n",
      " [-0.        0.001486 -0.003471]\n",
      " [ 0.        0.931026  1.207929]]\n"
     ]
    }
   ],
   "source": [
    "data = total_data[:,1:].astype(np.float)\n",
    "print(data)\n"
   ]
  },
  {
   "cell_type": "code",
   "execution_count": 16,
   "metadata": {},
   "outputs": [
    {
     "name": "stdout",
     "output_type": "stream",
     "text": [
      "[[0.         0.96900054 0.96900033]\n",
      " [0.96900054 0.         1.52693634]\n",
      " [0.96900033 1.52693634 0.        ]]\n"
     ]
    }
   ],
   "source": [
    "distance = np.zeros((3,3))\n",
    "for i in range(3):\n",
    "    for j in range(3):\n",
    "        dist = (data[i,0]-data[j,0])**2 + (data[i,1]-data[j,1])**2 + (data[i,2]-data[j,2])**2\n",
    "        distance[i,j] = np.sqrt(dist)\n",
    "        \n",
    "print(distance)"
   ]
  },
  {
   "cell_type": "code",
   "execution_count": 17,
   "metadata": {},
   "outputs": [
    {
     "name": "stdout",
     "output_type": "stream",
     "text": [
      " O to  O: 0.0000\n",
      " O to H1: 0.9690\n",
      " O to H2: 0.9690\n",
      "H1 to  O: 0.9690\n",
      "H1 to H1: 0.0000\n",
      "H1 to H2: 1.5269\n",
      "H2 to  O: 0.9690\n",
      "H2 to H1: 1.5269\n",
      "H2 to H2: 0.0000\n"
     ]
    }
   ],
   "source": [
    "headers = total_data[:,0]\n",
    "for i in range(3):\n",
    "    for j in range(3):\n",
    "        print('{:>2s} to {:>2s}: {:.4f}'.format(headers[i],headers[j],distance[i,j]))"
   ]
  },
  {
   "cell_type": "code",
   "execution_count": 11,
   "metadata": {},
   "outputs": [],
   "source": []
  },
  {
   "cell_type": "code",
   "execution_count": null,
   "metadata": {},
   "outputs": [],
   "source": []
  },
  {
   "cell_type": "code",
   "execution_count": null,
   "metadata": {},
   "outputs": [],
   "source": []
  },
  {
   "cell_type": "code",
   "execution_count": null,
   "metadata": {},
   "outputs": [],
   "source": []
  },
  {
   "cell_type": "code",
   "execution_count": null,
   "metadata": {},
   "outputs": [],
   "source": []
  }
 ],
 "metadata": {
  "kernelspec": {
   "display_name": "Python 3",
   "language": "python",
   "name": "python3"
  },
  "language_info": {
   "codemirror_mode": {
    "name": "ipython",
    "version": 3
   },
   "file_extension": ".py",
   "mimetype": "text/x-python",
   "name": "python",
   "nbconvert_exporter": "python",
   "pygments_lexer": "ipython3",
   "version": "3.7.1"
  }
 },
 "nbformat": 4,
 "nbformat_minor": 2
}
