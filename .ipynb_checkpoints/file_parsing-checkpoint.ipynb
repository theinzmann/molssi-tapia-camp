{
 "cells": [
  {
   "cell_type": "markdown",
   "metadata": {},
   "source": [
    "## File Parsing"
   ]
  },
  {
   "cell_type": "code",
   "execution_count": 36,
   "metadata": {},
   "outputs": [],
   "source": [
    "import os\n",
    "ethanol_file = os.path.join('outfiles', 'ethanol.out') #allows use on any operating system /mac \\pc\n",
    "file = open(ethanol_file, 'r')"
   ]
  },
  {
   "cell_type": "code",
   "execution_count": 34,
   "metadata": {},
   "outputs": [
    {
     "name": "stdout",
     "output_type": "stream",
     "text": [
      "Number of lines is 270.\n"
     ]
    }
   ],
   "source": [
    "line = file.readline(); no_lines = 0\n",
    "while line:\n",
    "    if 'RHF Final Energy:' in line:\n",
    "        words = line.split()\n",
    "        energy = words[3]\n",
    "    no_lines += 1\n",
    "    line = file.readline()\n",
    "file.close()\n",
    "print('Number of lines is {}.'.format(no_lines))"
   ]
  },
  {
   "cell_type": "code",
   "execution_count": 15,
   "metadata": {},
   "outputs": [
    {
     "name": "stdout",
     "output_type": "stream",
     "text": [
      "The final energy is: -154.0913 Hartrees\n"
     ]
    }
   ],
   "source": [
    "print('The final energy is: {:.4f} Hartrees.'.format(float(energy)))"
   ]
  },
  {
   "cell_type": "code",
   "execution_count": 57,
   "metadata": {},
   "outputs": [
    {
     "name": "stdout",
     "output_type": "stream",
     "text": [
      "ATOM          X          Y          Z\n",
      "H    0.278612764252   1.265047047666 -1.27421144948\n",
      "C    0.253854764252   1.255132047666 -0.17950244948\n",
      "H    1.294208764252   1.265046047666  0.16205955052\n",
      "H    -0.241341235748   2.165100047666  0.17065455052\n",
      "C    -0.462006235748   0.021161047666  0.32668755052\n",
      "H    -1.494385235748   0.000696047666 -0.03502344948\n",
      "H    -0.465109235748   0.000696047666  1.42059455052\n",
      "O    0.212678764252   -1.133331952334 -0.15038644948\n",
      "H    -0.268928235748   -1.906387952334  0.19016055052\n"
     ]
    }
   ],
   "source": [
    "file = open(ethanol_file, 'r')\n",
    "x = []; y = []; z = []; atom = []\n",
    "line = file.readline()\n",
    "while line:\n",
    "    if 'Center' in line:\n",
    "        file.readline()\n",
    "        line = file.readline()\n",
    "        while line != '\\n':\n",
    "            words = line.split()\n",
    "            atom.append(words[0]); x.append(float(words[1]))\n",
    "            y.append(float(words[2])); z.append(float(words[3]))\n",
    "            line = file.readline()\n",
    "        break\n",
    "        \n",
    "    line = file.readline()\n",
    "print('ATOM          X          Y          Z')\n",
    "for i in range(len(atom)):\n",
    "    print('{}    {:>14s}   {:>14s} {:>14s}'.format(atom[i], str(x[i]), str(y[i]), str(z[i])))\n",
    "\n",
    "file.close()"
   ]
  },
  {
   "cell_type": "code",
   "execution_count": 27,
   "metadata": {},
   "outputs": [],
   "source": [
    "import glob"
   ]
  },
  {
   "cell_type": "code",
   "execution_count": 41,
   "metadata": {},
   "outputs": [
    {
     "name": "stdout",
     "output_type": "stream",
     "text": [
      "['outfiles/propanol.out', 'outfiles/pentanol.out', 'outfiles/decanol.out', 'outfiles/methanol.out', 'outfiles/octanol.out', 'outfiles/ethanol.out', 'outfiles/hexanol.out', 'outfiles/heptanol.out', 'outfiles/butanol.out', 'outfiles/nonanol.out']\n"
     ]
    }
   ],
   "source": [
    "file_location = os.path.join('outfiles', '*.out')\n",
    "filenames = glob.glob(file_location)\n",
    "print(filenames)"
   ]
  },
  {
   "cell_type": "code",
   "execution_count": 77,
   "metadata": {},
   "outputs": [],
   "source": [
    "energies = []; molecule = []\n",
    "for file in filenames:\n",
    "    file_name = os.path.basename(file)\n",
    "    molecule.append(file_name.split('.')[0])\n",
    "    outfile = open(file, 'r')\n",
    "    line = outfile.readline(); no_lines = 0\n",
    "    while line:\n",
    "        if 'RHF Final Energy:' in line:\n",
    "            words = line.split()\n",
    "            energies.append(words[3])\n",
    "        line = outfile.readline()\n",
    "    outfile.close()\n",
    "logfile = open('out.txt', 'w+')  ###plus (w+) means if doesn't exist, create it  \n",
    "for i in range(len(energies)):\n",
    "    logfile.write('{:>10s}   energy: {:.5f}\\n'.format(molecule[i], float(energies[i])))\n",
    "    \n",
    "logfile.close()"
   ]
  },
  {
   "cell_type": "code",
   "execution_count": 58,
   "metadata": {},
   "outputs": [
    {
     "name": "stdout",
     "output_type": "stream",
     "text": [
      "outfiles/propanol.out\n"
     ]
    }
   ],
   "source": [
    "first_file = filenames[0]\n",
    "print(first_file)"
   ]
  },
  {
   "cell_type": "code",
   "execution_count": 59,
   "metadata": {},
   "outputs": [
    {
     "name": "stdout",
     "output_type": "stream",
     "text": [
      "propanol.out\n"
     ]
    }
   ],
   "source": [
    "file_name = os.path.basename(first_file)\n",
    "print(file_name)"
   ]
  },
  {
   "cell_type": "code",
   "execution_count": 61,
   "metadata": {},
   "outputs": [
    {
     "name": "stdout",
     "output_type": "stream",
     "text": [
      "propanol\n"
     ]
    }
   ],
   "source": [
    "molecule = file_name.split('.')[0]\n",
    "print(molecule)"
   ]
  },
  {
   "cell_type": "code",
   "execution_count": null,
   "metadata": {},
   "outputs": [],
   "source": []
  }
 ],
 "metadata": {
  "kernelspec": {
   "display_name": "Python 3",
   "language": "python",
   "name": "python3"
  },
  "language_info": {
   "codemirror_mode": {
    "name": "ipython",
    "version": 3
   },
   "file_extension": ".py",
   "mimetype": "text/x-python",
   "name": "python",
   "nbconvert_exporter": "python",
   "pygments_lexer": "ipython3",
   "version": "3.7.1"
  }
 },
 "nbformat": 4,
 "nbformat_minor": 2
}
